{
 "cells": [
  {
   "cell_type": "markdown",
   "metadata": {},
   "source": [
    "# LowProFool\n",
    "## Adversarial examples generation on the german credit dataset"
   ]
  },
  {
   "cell_type": "markdown",
   "metadata": {},
   "source": [
    "### Imports"
   ]
  },
  {
   "cell_type": "code",
   "metadata": {
    "ExecuteTime": {
     "end_time": "2024-12-31T06:44:17.851779Z",
     "start_time": "2024-12-31T06:44:17.233034Z"
    }
   },
   "source": [
    "# Misc\n",
    "import random\n",
    "import numpy as np\n",
    "import pandas as pd\n",
    "import tqdm\n",
    "from tqdm import tqdm\n",
    "from tqdm import tqdm_notebook\n",
    "import math\n",
    "import os\n",
    "import time\n",
    "import sys"
   ],
   "outputs": [],
   "execution_count": 131
  },
  {
   "cell_type": "code",
   "metadata": {
    "ExecuteTime": {
     "end_time": "2024-12-31T06:44:18.223612Z",
     "start_time": "2024-12-31T06:44:17.909016Z"
    }
   },
   "source": [
    "# Plotting\n",
    "import matplotlib.pyplot as plt\n",
    "import seaborn as sns"
   ],
   "outputs": [],
   "execution_count": 132
  },
  {
   "cell_type": "code",
   "metadata": {
    "ExecuteTime": {
     "end_time": "2024-12-31T06:44:18.761651Z",
     "start_time": "2024-12-31T06:44:18.432269Z"
    }
   },
   "source": [
    "# Sklearn\n",
    "import sklearn\n",
    "from sklearn.preprocessing import MinMaxScaler\n",
    "from sklearn.datasets import fetch_openml\n",
    "from sklearn.model_selection import train_test_split\n",
    "from sklearn.metrics import accuracy_score"
   ],
   "outputs": [],
   "execution_count": 133
  },
  {
   "cell_type": "code",
   "metadata": {
    "ExecuteTime": {
     "end_time": "2024-12-31T06:44:19.409434Z",
     "start_time": "2024-12-31T06:44:19.022934Z"
    }
   },
   "source": [
    "# Pytorch\n",
    "import torch\n",
    "import torch.nn as nn\n",
    "from torch.autograd import Variable\n",
    "import torch.nn.functional as F\n",
    "# Keras \n",
    "import keras"
   ],
   "outputs": [],
   "execution_count": 134
  },
  {
   "cell_type": "code",
   "metadata": {
    "ExecuteTime": {
     "end_time": "2024-12-31T06:44:19.911532Z",
     "start_time": "2024-12-31T06:44:19.641637Z"
    }
   },
   "source": [
    "# Helpers\n",
    "from Adverse import lowProFool, deepfool\n",
    "from Metrics import *"
   ],
   "outputs": [],
   "execution_count": 135
  },
  {
   "cell_type": "markdown",
   "metadata": {},
   "source": [
    "### Notebook config"
   ]
  },
  {
   "cell_type": "code",
   "metadata": {
    "ExecuteTime": {
     "end_time": "2024-12-31T06:44:22.013748Z",
     "start_time": "2024-12-31T06:44:20.167982Z"
    }
   },
   "source": [
    "# Retina display\n",
    "%config InlineBackend.figure_format ='retina'\n",
    "pd.set_option('display.max_columns', 500)\n",
    "tqdm.pandas()\n",
    "np.set_printoptions(suppress=True)\n",
    "\n",
    "%load_ext autoreload\n",
    "%autoreload 2\n",
    "\n",
    "ccolors = [\"#008ae9\", \"#ea004f\"]\n",
    "sns.set_palette(ccolors)\n",
    "sns.palplot(sns.color_palette())"
   ],
   "outputs": [
    {
     "name": "stdout",
     "output_type": "stream",
     "text": [
      "The autoreload extension is already loaded. To reload it, use:\n",
      "  %reload_ext autoreload\n"
     ]
    },
    {
     "data": {
      "text/plain": [
       "<Figure size 144x72 with 1 Axes>"
      ],
      "image/png": "[encoded data removed]"
     },
     "metadata": {
      "image/png": {
       "width": 126,
       "height": 68
      }
     },
     "output_type": "display_data"
    }
   ],
   "execution_count": 136
  },
  {
   "cell_type": "markdown",
   "metadata": {},
   "source": [
    "### Constants"
   ]
  },
  {
   "cell_type": "code",
   "metadata": {
    "ExecuteTime": {
     "end_time": "2024-12-31T06:44:22.546397Z",
     "start_time": "2024-12-31T06:44:22.274525Z"
    }
   },
   "source": [
    "SEED = 0\n",
    "DATASET = 'credit-g'"
   ],
   "outputs": [],
   "execution_count": 137
  },
  {
   "cell_type": "markdown",
   "metadata": {},
   "source": [
    "### Fetch data from openml"
   ]
  },
  {
   "cell_type": "code",
   "metadata": {
    "ExecuteTime": {
     "end_time": "2024-12-31T06:44:23.055306Z",
     "start_time": "2024-12-31T06:44:22.744146Z"
    }
   },
   "source": [
    "def get_df(dataset):\n",
    "    assert(dataset == 'credit-g')\n",
    "    \n",
    "    dataset = fetch_openml(dataset)\n",
    "    target = 'target'\n",
    "    df = pd.DataFrame(data= np.c_[dataset['data'], dataset[target]], columns= dataset['feature_names'] + [target])  \n",
    "\n",
    "    # Renaming target for training later\n",
    "    df[target] = df[target].apply(lambda x: 0.0 if x == 'bad' or x == 0.0 else 1.0)\n",
    "\n",
    "    # Subsetting features to keep only continuous, discrete and ordered categorical\n",
    "    feature_names = ['checking_status', 'duration', 'credit_amount',\n",
    "                 'savings_status','employment','installment_commitment',\n",
    "                 'residence_since','age','existing_credits','num_dependents',\n",
    "                 'own_telephone','foreign_worker']\n",
    "\n",
    "    df = df[feature_names + [target]]\n",
    "\n",
    "    # Casting to float for later purpose\n",
    "    df = df.astype(float)\n",
    "    return df, target, feature_names"
   ],
   "outputs": [],
   "execution_count": 138
  },
  {
   "cell_type": "markdown",
   "metadata": {},
   "source": [
    "### Preprocess data"
   ]
  },
  {
   "cell_type": "code",
   "metadata": {
    "ExecuteTime": {
     "end_time": "2024-12-31T06:44:23.621351Z",
     "start_time": "2024-12-31T06:44:23.243786Z"
    }
   },
   "source": [
    "def normalize(df, target, feature_names, bounds):\n",
    "    df_return = df.copy()\n",
    "    \n",
    "    # Makes sure target does not need scaling\n",
    "    targets = np.unique(df[target].values)\n",
    "    assert(len(targets == 2) and 0. in targets and 1. in targets)\n",
    "    \n",
    "    scaler = MinMaxScaler()\n",
    "    X = df_return[feature_names]\n",
    "    scaler.fit(X)    \n",
    "    df_return[feature_names] = scaler.transform(X)\n",
    "    \n",
    "    lower_bounds = scaler.transform([bounds[0]])\n",
    "    upper_bounds = scaler.transform([bounds[1]])\n",
    "\n",
    "    return scaler, df_return, (lower_bounds[0], upper_bounds[0])\n",
    "\n",
    "# 逆正規化\n",
    "def denormalize(scaler, normalized_df, feature_names):\n",
    "    \"\"\"\n",
    "    正規化されたデータフレームを元のスケールに戻します\n",
    "\n",
    "    Parameters:\n",
    "    -----------\n",
    "    scaler : MinMaxScaler\n",
    "        normalize関数で使用したscalerインスタンス\n",
    "    normalized_df : pandas.DataFrame\n",
    "        正規化されたデータフレーム\n",
    "    feature_names : list\n",
    "        正規化された特徴量の名前のリスト\n",
    "\n",
    "    Returns:\n",
    "    --------\n",
    "    pandas.DataFrame\n",
    "        元のスケールに戻したデータフレーム\n",
    "    \"\"\"\n",
    "    df_return = normalized_df.copy()\n",
    "\n",
    "    # 特徴量のみを逆変換\n",
    "    X_normalized = df_return[feature_names]\n",
    "    df_return[feature_names] = scaler.inverse_transform(X_normalized)\n",
    "\n",
    "    return df_return\n",
    "\n",
    "def get_weights(df, target, show_heatmap=False):\n",
    "    def heatmap(cor):\n",
    "        plt.figure(figsize=(8,6))\n",
    "        sns.heatmap(cor, annot=True, cmap=plt.cm.Reds)\n",
    "        plt.show()\n",
    "\n",
    "    cor = df.corr()\n",
    "    cor_target = abs(cor[target])\n",
    "\n",
    "    weights = cor_target[:-1] #removing target WARNING ASSUMES TARGET IS LAST\n",
    "    weights = weights / np.linalg.norm(weights)\n",
    "\n",
    "    if show_heatmap:\n",
    "        heatmap(cor)\n",
    "            \n",
    "    return weights.values\n",
    "\n",
    "def balance_df(df):\n",
    "    len_df_0, len_df_1 = len(df[df[target] == 0.]), len(df[df[target] == 1.])\n",
    "    df_0 = df[df[target] == 0.].sample(min(len_df_0, len_df_1), random_state=SEED)\n",
    "    df_1 = df[df[target] == 1.].sample(min(len_df_0, len_df_1), random_state=SEED)\n",
    "    df = pd.concat((df_0, df_1))\n",
    "    return df\n",
    "\n",
    "def get_bounds():\n",
    "    low_bounds = df_orig.min().values\n",
    "    up_bounds = df_orig.max().values\n",
    "    \n",
    "    #removing target WARNING ASSUMES TARGET IS LAST\n",
    "    low_bounds = low_bounds[:-1]\n",
    "    up_bounds = up_bounds[:-1]\n",
    "    \n",
    "    return [low_bounds, up_bounds]\n",
    "\n",
    "def split_train_test_valid():\n",
    "    # Train test splits\n",
    "    df_train, df_test = train_test_split(df, test_size=300, shuffle=True, random_state=SEED)\n",
    "    df_test, df_valid = train_test_split(df_test, test_size=50, shuffle=True, random_state=SEED)\n",
    "    \n",
    "    return df_train, df_test, df_valid"
   ],
   "outputs": [],
   "execution_count": 139
  },
  {
   "cell_type": "markdown",
   "metadata": {},
   "source": [
    "### Training neural net"
   ]
  },
  {
   "cell_type": "code",
   "metadata": {
    "ExecuteTime": {
     "end_time": "2024-12-31T06:44:24.231269Z",
     "start_time": "2024-12-31T06:44:23.793737Z"
    }
   },
   "source": [
    "def get_model(conf, load=False):\n",
    "    assert(conf['Dataset'] == 'credit-g')\n",
    "    \n",
    "    class GermanNet(nn.Module):\n",
    "        def __init__(self, D_in, H, D_out):\n",
    "            super(GermanNet, self).__init__()\n",
    "            self.linear1 = torch.nn.Linear(D_in, H)\n",
    "            self.linear2 = torch.nn.Linear(H, H)\n",
    "            self.linear3 = torch.nn.Linear(H, D_out)\n",
    "            self.relu = torch.nn.ReLU()\n",
    "            self.softmax = torch.nn.Softmax(dim=-1)\n",
    "\n",
    "        def forward(self, x):\n",
    "            h1 = self.relu(self.linear1(x))\n",
    "            h2 = self.relu(self.linear2(h1))\n",
    "            h3 = self.relu(self.linear2(h2))\n",
    "            h4 = self.relu(self.linear2(h3))\n",
    "            h5 = self.relu(self.linear2(h4))\n",
    "            h6 = self.relu(self.linear2(h5))\n",
    "            a3 = self.linear3(h6)\n",
    "            y = self.softmax(a3)\n",
    "            return y\n",
    "\n",
    "    def train(model, criterion, optimizer, X, y, N, n_classes):\n",
    "        model.train()\n",
    "\n",
    "        current_loss = 0\n",
    "        current_correct = 0\n",
    "\n",
    "\n",
    "        # Training in batches\n",
    "        for ind in range(0, X.size(0), N):\n",
    "            indices = range(ind, min(ind + N, X.size(0)) - 1) \n",
    "            inputs, labels = X[indices], y[indices]\n",
    "            inputs = Variable(inputs, requires_grad=True)\n",
    "\n",
    "\n",
    "            optimizer.zero_grad()\n",
    "\n",
    "            output = model(inputs)\n",
    "            _, indices = torch.max(output, 1) # argmax of output [[0.61, 0.12]] -> [0]\n",
    "            # [[0, 1, 1, 0, 1, 0, 0]] -> [[1, 0], [0, 1], [0, 1], [1, 0], [0, 1], [1, 0], [1, 0]]\n",
    "            preds = torch.tensor(keras.utils.to_categorical(indices, num_classes=n_classes))\n",
    "\n",
    "            loss = criterion(output, labels)\n",
    "            loss.backward()\n",
    "            optimizer.step()\n",
    "\n",
    "            current_loss += loss.item()\n",
    "            current_correct += (preds.int() == labels.int()).sum() /n_classes\n",
    "\n",
    "\n",
    "        current_loss = current_loss / X.size(0)\n",
    "        current_correct = current_correct.double() / X.size(0)    \n",
    "\n",
    "        return preds, current_loss, current_correct.item()\n",
    "    \n",
    "    df = conf['TrainData']\n",
    "    target = conf['Target']\n",
    "    feature_names = conf['FeatureNames']\n",
    "                        \n",
    "    n_classes = len(np.unique(df[target]))\n",
    "    X_train = torch.FloatTensor(df[feature_names].values)\n",
    "    y_train = keras.utils.to_categorical(df[target], n_classes)\n",
    "    y_train = torch.FloatTensor(y_train)\n",
    "\n",
    "    D_in = X_train.size(1)\n",
    "    D_out = y_train.size(1)\n",
    "\n",
    "    epochs = 400\n",
    "    batch_size = 100\n",
    "    H = 100\n",
    "    net = GermanNet(D_in, H, D_out)\n",
    "\n",
    "    lr = 1e-4    \n",
    "    criterion = torch.nn.BCELoss()\n",
    "    optimizer = torch.optim.Adam(net.parameters(), lr=lr)\n",
    "\n",
    "    for epoch in range(epochs):\n",
    "        preds, epoch_loss, epoch_acc = train(net, criterion, optimizer, X_train, y_train, batch_size, n_classes)     \n",
    "        if (epoch % 50 == 0):\n",
    "            print(\"> epoch {:.0f}\\tLoss {:.5f}\\tAcc {:.5f}\".format(epoch, epoch_loss, epoch_acc))\n",
    "\n",
    "    model_path = 'model_data/model.pth'\n",
    "    # ディレクトリが存在しない場合は作成\n",
    "    os.makedirs(os.path.dirname(model_path), exist_ok=True)\n",
    "    torch.save(net.state_dict(), model_path)\n",
    "    net.eval()\n",
    "    \n",
    "    return net"
   ],
   "outputs": [],
   "execution_count": 140
  },
  {
   "cell_type": "markdown",
   "metadata": {},
   "source": [
    "### Generate adversarial examples"
   ]
  },
  {
   "cell_type": "code",
   "metadata": {
    "ExecuteTime": {
     "end_time": "2024-12-31T06:44:24.716228Z",
     "start_time": "2024-12-31T06:44:24.411759Z"
    }
   },
   "source": [
    "def gen_adv(config, method):\n",
    "    df_test = config['TestData']\n",
    "    extra_cols = ['orig_pred', 'adv_pred', 'iters']    \n",
    "    model = config['Model']\n",
    "    weights = config['Weights']\n",
    "    bounds = config['Bounds']\n",
    "    maxiters = config['MaxIters']\n",
    "    alpha = config['Alpha']\n",
    "    lambda_ = config['Lambda']\n",
    "    \n",
    "    results = np.zeros((len(df_test), len(feature_names) + len(extra_cols)))    \n",
    "            \n",
    "    i = -1\n",
    "    for _, row in tqdm_notebook(df_test.iterrows(), total=df_test.shape[0], desc=\"{}\".format(method)):\n",
    "        i += 1\n",
    "        print(df_test.iloc[i].name)\n",
    "        x_tensor = torch.FloatTensor(row[config['FeatureNames']])   \n",
    "        \n",
    "        if method == 'LowProFool':\n",
    "            orig_pred, adv_pred, x_adv, loop_i = lowProFool(x_tensor, model, weights, bounds,\n",
    "                                                             maxiters, alpha, lambda_)\n",
    "        elif method == 'Deepfool':\n",
    "            orig_pred, adv_pred, x_adv, loop_i = deepfool(x_tensor, model, maxiters, alpha,\n",
    "                                                          bounds, weights=[])\n",
    "        else:\n",
    "            raise Exception(\"Invalid method\", method)\n",
    "        results[i] = np.concatenate((x_adv, [orig_pred, adv_pred, loop_i]), axis=0)\n",
    "        \n",
    "    return pd.DataFrame(results, index=df_test.index, columns = feature_names + extra_cols)"
   ],
   "outputs": [],
   "execution_count": 141
  },
  {
   "cell_type": "markdown",
   "metadata": {},
   "source": [
    "# 実行開始"
   ]
  },
  {
   "cell_type": "code",
   "metadata": {
    "ExecuteTime": {
     "end_time": "2024-12-31T10:22:31.644880Z",
     "start_time": "2024-12-31T06:44:25.046809Z"
    }
   },
   "source": [
    "# Load initial dataset\n",
    "df_orig, target, feature_names = get_df(DATASET)\n",
    "\n",
    "# Balance dataset classes\n",
    "df = balance_df(df_orig)\n",
    "\n",
    "# Compute the bounds for clipping\n",
    "bounds = get_bounds()\n",
    "\n",
    "# Normalize the data\n",
    "scaler, df, bounds = normalize(df, target, feature_names, bounds)\n",
    "\n",
    "# Compute the weihts modelizing the expert's knowledge\n",
    "weights = get_weights(df, target)\n",
    "\n",
    "# Split df into train/test/valid\n",
    "df_train, df_test, df_valid = split_train_test_valid()\n",
    "\n",
    "# Build experimenation config\n",
    "config = {'Dataset'     : 'credit-g',\n",
    "         'MaxIters'     : 20000,\n",
    "         'Alpha'        : 0.001,\n",
    "         'Lambda'       : 8.5,\n",
    "         'TrainData'    : df_train,\n",
    "         'TestData'     : df_test,\n",
    "         'ValidData'    : df_valid,\n",
    "         'Scaler'       : scaler,\n",
    "         'FeatureNames' : feature_names,\n",
    "         'Target'       : target,\n",
    "         'Weights'      : weights,\n",
    "         'Bounds'       : bounds}\n",
    "\n",
    "# Train neural network\n",
    "model = get_model(config)\n",
    "config['Model'] = model\n",
    "\n",
    "# Compute accuracy on test set\n",
    "y_true = df_test[target]\n",
    "x_test = torch.FloatTensor(df_test[feature_names].values)\n",
    "y_pred = model(x_test)\n",
    "y_pred = np.argmax(y_pred.detach().numpy(), axis=1)\n",
    "print(\"Accuracy score on test data\", accuracy_score(y_true, y_pred))\n",
    "    \n",
    "# Sub sample\n",
    "config['TestData'] = config['TestData'].sample(n=10, random_state = SEED)\n",
    "\n",
    "# Generate adversarial examples\n",
    "df_adv_lpf = gen_adv(config, 'LowProFool')\n",
    "df_adv_df = gen_adv(config, 'Deepfool')\n",
    "config['AdvData'] = {'LowProFool' : df_adv_lpf, 'Deepfool' : df_adv_df}\n",
    "\n",
    "# Compute metrics\n",
    "list_metrics = {'SuccessRate' : True,\n",
    "                'iter_means': False,\n",
    "                'iter_std': False,\n",
    "                'normdelta_median': False,\n",
    "                'normdelta_mean': True,\n",
    "                'n_std': True,\n",
    "                'weighted_median': False,\n",
    "                'weighted_mean': True,\n",
    "                'w_std': True,\n",
    "                'mean_dists_at_org': False,\n",
    "                'median_dists_at_org': False,\n",
    "                'mean_dists_at_tgt': False,\n",
    "                'mean_dists_at_org_weighted': True,\n",
    "                'mdow_std': True,\n",
    "                'median_dists_at_org_weighted': False,\n",
    "                'mean_dists_at_tgt_weighted': True,\n",
    "                'mdtw_std': True,\n",
    "                'prop_same_class_arg_org': False,\n",
    "                'prop_same_class_arg_adv': False}\n",
    "\n",
    "all_metrics = get_metrics(config, list_metrics)\n",
    "all_metrics = pd.DataFrame(all_metrics, columns=['Method'] + [k for k, v in list_metrics.items() if v])\n",
    "all_metrics"
   ],
   "outputs": [
    {
     "name": "stderr",
     "output_type": "stream",
     "text": [
      "/root/.pyenv/versions/3.7.4/lib/python3.7/site-packages/sklearn/datasets/openml.py:305: UserWarning: Multiple active versions of the dataset matching the name credit-g exist. Versions may be fundamentally different, returning version 1.\n",
      "  \" {version}.\".format(name=name, version=res[0]['version']))\n"
     ]
    },
    {
     "name": "stdout",
     "output_type": "stream",
     "text": [
      "> epoch 0\tLoss 0.00698\tAcc 0.47333\n",
      "> epoch 50\tLoss 0.00669\tAcc 0.71333\n",
      "> epoch 100\tLoss 0.00508\tAcc 0.73000\n",
      "> epoch 150\tLoss 0.00481\tAcc 0.75000\n",
      "> epoch 200\tLoss 0.00453\tAcc 0.76000\n",
      "> epoch 250\tLoss 0.00412\tAcc 0.81000\n",
      "> epoch 300\tLoss 0.00361\tAcc 0.83667\n",
      "> epoch 350\tLoss 0.00310\tAcc 0.85667\n",
      "Accuracy score on test data 0.676\n"
     ]
    },
    {
     "data": {
      "text/plain": [
       "HBox(children=(IntProgress(value=0, description='LowProFool', max=10, style=ProgressStyle(description_width='i…"
      ],
      "application/vnd.jupyter.widget-view+json": {
       "version_major": 2,
       "version_minor": 0,
       "model_id": "0eb6515ef002494f87fbe569bc3124c7"
      }
     },
     "metadata": {},
     "output_type": "display_data"
    },
    {
     "name": "stdout",
     "output_type": "stream",
     "text": [
      "685\n",
      "output_prod [0.9008676  0.09913234]\n",
      "727\n",
      "output_prod [0.21561287 0.7843872 ]\n",
      "30\n",
      "output_prod [0.793486 0.206514]\n",
      "376\n",
      "output_prod [0.1375668 0.8624332]\n",
      "66\n",
      "output_prod [0.81592405 0.18407594]\n",
      "965\n",
      "output_prod [0.96038836 0.03961167]\n",
      "963\n",
      "output_prod [0.8725951  0.12740491]\n",
      "61\n",
      "output_prod [0.715682 0.284318]\n",
      "282\n",
      "output_prod [0.95381314 0.04618694]\n",
      "268\n",
      "output_prod [0.04092333 0.95907664]\n"
     ]
    },
    {
     "data": {
      "text/plain": [
       "HBox(children=(IntProgress(value=0, description='Deepfool', max=10, style=ProgressStyle(description_width='ini…"
      ],
      "application/vnd.jupyter.widget-view+json": {
       "version_major": 2,
       "version_minor": 0,
       "model_id": "84401c0283d04b188aa8b517eb7e9201"
      }
     },
     "metadata": {},
     "output_type": "display_data"
    },
    {
     "name": "stdout",
     "output_type": "stream",
     "text": [
      "685\n",
      "727\n",
      "30\n",
      "376\n",
      "66\n",
      "965\n",
      "963\n",
      "61\n",
      "282\n",
      "268\n"
     ]
    },
    {
     "data": {
      "text/plain": [
       "       Method  SuccessRate  normdelta_mean     n_std  weighted_mean     w_std  \\\n",
       "0  LowProFool          1.0        0.320324  0.317873       0.043336  0.039835   \n",
       "1    Deepfool          1.0        0.201288  0.144257       0.076153  0.064458   \n",
       "\n",
       "   mean_dists_at_org_weighted  mdow_std  mean_dists_at_tgt_weighted  mdtw_std  \n",
       "0                    0.214625  0.085894                    0.209034  0.084099  \n",
       "1                    0.214625  0.085894                    0.204265  0.080647  "
      ],
      "text/html": [
       "<div>\n",
       "<style scoped>\n",
       "    .dataframe tbody tr th:only-of-type {\n",
       "        vertical-align: middle;\n",
       "    }\n",
       "\n",
       "    .dataframe tbody tr th {\n",
       "        vertical-align: top;\n",
       "    }\n",
       "\n",
       "    .dataframe thead th {\n",
       "        text-align: right;\n",
       "    }\n",
       "</style>\n",
       "<table border=\"1\" class=\"dataframe\">\n",
       "  <thead>\n",
       "    <tr style=\"text-align: right;\">\n",
       "      <th></th>\n",
       "      <th>Method</th>\n",
       "      <th>SuccessRate</th>\n",
       "      <th>normdelta_mean</th>\n",
       "      <th>n_std</th>\n",
       "      <th>weighted_mean</th>\n",
       "      <th>w_std</th>\n",
       "      <th>mean_dists_at_org_weighted</th>\n",
       "      <th>mdow_std</th>\n",
       "      <th>mean_dists_at_tgt_weighted</th>\n",
       "      <th>mdtw_std</th>\n",
       "    </tr>\n",
       "  </thead>\n",
       "  <tbody>\n",
       "    <tr>\n",
       "      <th>0</th>\n",
       "      <td>LowProFool</td>\n",
       "      <td>1.0</td>\n",
       "      <td>0.320324</td>\n",
       "      <td>0.317873</td>\n",
       "      <td>0.043336</td>\n",
       "      <td>0.039835</td>\n",
       "      <td>0.214625</td>\n",
       "      <td>0.085894</td>\n",
       "      <td>0.209034</td>\n",
       "      <td>0.084099</td>\n",
       "    </tr>\n",
       "    <tr>\n",
       "      <th>1</th>\n",
       "      <td>Deepfool</td>\n",
       "      <td>1.0</td>\n",
       "      <td>0.201288</td>\n",
       "      <td>0.144257</td>\n",
       "      <td>0.076153</td>\n",
       "      <td>0.064458</td>\n",
       "      <td>0.214625</td>\n",
       "      <td>0.085894</td>\n",
       "      <td>0.204265</td>\n",
       "      <td>0.080647</td>\n",
       "    </tr>\n",
       "  </tbody>\n",
       "</table>\n",
       "</div>"
      ]
     },
     "execution_count": 142,
     "metadata": {},
     "output_type": "execute_result"
    }
   ],
   "execution_count": 142
  },
  {
   "cell_type": "code",
   "metadata": {
    "ExecuteTime": {
     "end_time": "2024-12-31T10:22:34.186192Z",
     "start_time": "2024-12-31T10:22:31.996954Z"
    }
   },
   "source": [
    "plot_ratios = []\n",
    "\n",
    "m_lpf = all_metrics[all_metrics.Method == 'LowProFool']\n",
    "m_df = all_metrics[all_metrics.Method =='Deepfool']\n",
    "\n",
    "sr = m_lpf.SuccessRate.values / m_df.SuccessRate.values \n",
    "wm =  m_lpf.weighted_mean.values / m_df.weighted_mean.values \n",
    "\n",
    "plot_ratios.append([100*sr[0], 100*wm[0]])\n",
    "plot_ratios = pd.DataFrame(plot_ratios, columns=['Success Rate Ratio', 'Mean Perturbation Ratio'])\n",
    "plot_ratios['Dataset'] = 'German Credit'\n",
    "\n",
    "f = plt.figure()\n",
    "ax = plt.axes()\n",
    "plot_ratios.plot(x='Dataset', kind='bar', legend=True, ax=ax)\n",
    "\n",
    "for i, v in enumerate(plot_ratios['Success Rate Ratio'].values):\n",
    "    ax.text(i - 0.2, v - 12 , str(v.round(1)) + '%', fontsize=16, color='white', weight='bold')\n",
    "for i, v in enumerate(plot_ratios['Mean Perturbation Ratio'].values):\n",
    "    ax.text(i + 0.062, v - 12, str(v.round(1)) + '%', fontsize=16, color='white', weight='bold')\n",
    "\n",
    "plt.setp(ax.xaxis.get_majorticklabels(), rotation=0, ha='center')\n",
    "ax.axhline(100, ls=':', c='grey')\n",
    "ax.text(-0.49, 100 - 5, '100%')\n",
    "\n",
    "\n",
    "ax.set_yticks([])\n",
    "plt.tight_layout()\n",
    "plt.show()"
   ],
   "outputs": [
    {
     "data": {
      "text/plain": [
       "<Figure size 432x288 with 1 Axes>"
      ],
      "image/png": "[encoded data removed]"
     },
     "metadata": {
      "image/png": {
       "width": 424,
       "height": 279
      }
     },
     "output_type": "display_data"
    }
   ],
   "execution_count": 143
  },
  {
   "metadata": {},
   "cell_type": "markdown",
   "source": "### CSV出力"
  },
  {
   "metadata": {
    "ExecuteTime": {
     "end_time": "2024-12-31T10:22:34.790151Z",
     "start_time": "2024-12-31T10:22:34.584528Z"
    }
   },
   "cell_type": "code",
   "source": [
    "# 逆正規化\n",
    "df_adv_lpf = denormalize(scaler, df_adv_lpf, feature_names=feature_names)\n",
    "# lowprofool\n",
    "df_adv_lpf.to_csv('data/lowprofool_propose1.csv')\n",
    "\n",
    "# 逆正規化\n",
    "df_adv_df = denormalize(scaler, df_adv_df, feature_names=feature_names)\n",
    "# deepfool\n",
    "df_adv_df.to_csv('data/deepfool_propose1.csv')"
   ],
   "outputs": [],
   "execution_count": 144
  },
  {
   "metadata": {
    "ExecuteTime": {
     "end_time": "2024-12-31T10:22:35.052079Z",
     "start_time": "2024-12-31T10:22:34.808939Z"
    }
   },
   "cell_type": "code",
   "source": [
    "df_orig = pd.read_csv('data/df_orig.csv')\n",
    "df_adv_lpf = pd.read_csv('data/lowprofool_propose1.csv')\n",
    "df_adv_df = pd.read_csv('data/deepfool_propose1.csv')"
   ],
   "outputs": [],
   "execution_count": 145
  },
  {
   "metadata": {
    "ExecuteTime": {
     "end_time": "2024-12-31T10:22:35.949923Z",
     "start_time": "2024-12-31T10:22:35.165913Z"
    }
   },
   "cell_type": "code",
   "source": [
    "arrs = [685, 727, 30, 376, 66, 965, 963, 61, 282, 268]\n",
    "\n",
    "for i in arrs:\n",
    "    orig_row = df_orig[df_orig['Unnamed: 0'] == i].copy()\n",
    "    adv_lpf_row = df_adv_lpf[df_adv_lpf['Unnamed: 0'] == i].copy()\n",
    "    adv_df_row = df_adv_df[df_adv_df['Unnamed: 0'] == i].copy()\n",
    "    \n",
    "    # Rename columns to match the original format\n",
    "    orig_row.columns = [col if col != 'Unnamed: 0' else 'id' for col in orig_row.columns]\n",
    "    adv_lpf_row.columns = [col if col != 'Unnamed: 0' else 'id' for col in adv_lpf_row.columns]\n",
    "    adv_df_row.columns = [col if col != 'Unnamed: 0' else 'id' for col in adv_df_row.columns]\n",
    "    \n",
    "    # Combine rows into a single DataFrame\n",
    "    combined_df = pd.concat([orig_row, adv_lpf_row, adv_df_row], keys=['orig', 'adv_lpf', 'adv_df']).reset_index(level=0).rename(columns={'level_0': 'type'})\n",
    "    \n",
    "    # Save the DataFrame as df_output_{id}\n",
    "    globals()[f'df_output_{i}'] = combined_df\n",
    "\n",
    "# Example to access one of the generated DataFrames\n",
    "df_output_685"
   ],
   "outputs": [
    {
     "name": "stderr",
     "output_type": "stream",
     "text": [
      "/root/.pyenv/versions/3.7.4/lib/python3.7/site-packages/ipykernel_launcher.py:14: FutureWarning: Sorting because non-concatenation axis is not aligned. A future version\n",
      "of pandas will change to not sort by default.\n",
      "\n",
      "To accept the future behavior, pass 'sort=False'.\n",
      "\n",
      "To retain the current behavior and silence the warning, pass 'sort=True'.\n",
      "\n",
      "  \n"
     ]
    },
    {
     "data": {
      "text/plain": [
       "        type  adv_pred        age  checking_status  credit_amount   duration  \\\n",
       "685     orig       NaN  34.000000         3.000000    6527.000000  60.000000   \n",
       "0    adv_lpf       0.0  35.369524         2.999008    5798.563315  59.939824   \n",
       "0     adv_df       0.0  35.950148         2.991625    5396.662780  59.637458   \n",
       "\n",
       "     employment  existing_credits  foreign_worker   id  \\\n",
       "685    2.000000               1.0             0.0  685   \n",
       "0      1.794402               1.0             0.0  685   \n",
       "0      1.752731               1.0             0.0  685   \n",
       "\n",
       "     installment_commitment  iters  num_dependents  orig_pred  own_telephone  \\\n",
       "685                     4.0    NaN             2.0        NaN       1.000000   \n",
       "0                       4.0   50.0             2.0        1.0       0.886632   \n",
       "0                       4.0  214.0             2.0        1.0       0.921984   \n",
       "\n",
       "     residence_since  savings_status  target  \n",
       "685              4.0        4.000000     1.0  \n",
       "0                4.0        3.891405     NaN  \n",
       "0                4.0        3.862095     NaN  "
      ],
      "text/html": [
       "<div>\n",
       "<style scoped>\n",
       "    .dataframe tbody tr th:only-of-type {\n",
       "        vertical-align: middle;\n",
       "    }\n",
       "\n",
       "    .dataframe tbody tr th {\n",
       "        vertical-align: top;\n",
       "    }\n",
       "\n",
       "    .dataframe thead th {\n",
       "        text-align: right;\n",
       "    }\n",
       "</style>\n",
       "<table border=\"1\" class=\"dataframe\">\n",
       "  <thead>\n",
       "    <tr style=\"text-align: right;\">\n",
       "      <th></th>\n",
       "      <th>type</th>\n",
       "      <th>adv_pred</th>\n",
       "      <th>age</th>\n",
       "      <th>checking_status</th>\n",
       "      <th>credit_amount</th>\n",
       "      <th>duration</th>\n",
       "      <th>employment</th>\n",
       "      <th>existing_credits</th>\n",
       "      <th>foreign_worker</th>\n",
       "      <th>id</th>\n",
       "      <th>installment_commitment</th>\n",
       "      <th>iters</th>\n",
       "      <th>num_dependents</th>\n",
       "      <th>orig_pred</th>\n",
       "      <th>own_telephone</th>\n",
       "      <th>residence_since</th>\n",
       "      <th>savings_status</th>\n",
       "      <th>target</th>\n",
       "    </tr>\n",
       "  </thead>\n",
       "  <tbody>\n",
       "    <tr>\n",
       "      <th>685</th>\n",
       "      <td>orig</td>\n",
       "      <td>NaN</td>\n",
       "      <td>34.000000</td>\n",
       "      <td>3.000000</td>\n",
       "      <td>6527.000000</td>\n",
       "      <td>60.000000</td>\n",
       "      <td>2.000000</td>\n",
       "      <td>1.0</td>\n",
       "      <td>0.0</td>\n",
       "      <td>685</td>\n",
       "      <td>4.0</td>\n",
       "      <td>NaN</td>\n",
       "      <td>2.0</td>\n",
       "      <td>NaN</td>\n",
       "      <td>1.000000</td>\n",
       "      <td>4.0</td>\n",
       "      <td>4.000000</td>\n",
       "      <td>1.0</td>\n",
       "    </tr>\n",
       "    <tr>\n",
       "      <th>0</th>\n",
       "      <td>adv_lpf</td>\n",
       "      <td>0.0</td>\n",
       "      <td>35.369524</td>\n",
       "      <td>2.999008</td>\n",
       "      <td>5798.563315</td>\n",
       "      <td>59.939824</td>\n",
       "      <td>1.794402</td>\n",
       "      <td>1.0</td>\n",
       "      <td>0.0</td>\n",
       "      <td>685</td>\n",
       "      <td>4.0</td>\n",
       "      <td>50.0</td>\n",
       "      <td>2.0</td>\n",
       "      <td>1.0</td>\n",
       "      <td>0.886632</td>\n",
       "      <td>4.0</td>\n",
       "      <td>3.891405</td>\n",
       "      <td>NaN</td>\n",
       "    </tr>\n",
       "    <tr>\n",
       "      <th>0</th>\n",
       "      <td>adv_df</td>\n",
       "      <td>0.0</td>\n",
       "      <td>35.950148</td>\n",
       "      <td>2.991625</td>\n",
       "      <td>5396.662780</td>\n",
       "      <td>59.637458</td>\n",
       "      <td>1.752731</td>\n",
       "      <td>1.0</td>\n",
       "      <td>0.0</td>\n",
       "      <td>685</td>\n",
       "      <td>4.0</td>\n",
       "      <td>214.0</td>\n",
       "      <td>2.0</td>\n",
       "      <td>1.0</td>\n",
       "      <td>0.921984</td>\n",
       "      <td>4.0</td>\n",
       "      <td>3.862095</td>\n",
       "      <td>NaN</td>\n",
       "    </tr>\n",
       "  </tbody>\n",
       "</table>\n",
       "</div>"
      ]
     },
     "execution_count": 146,
     "metadata": {},
     "output_type": "execute_result"
    }
   ],
   "execution_count": 146
  },
  {
   "metadata": {
    "ExecuteTime": {
     "end_time": "2024-12-31T10:22:36.616122Z",
     "start_time": "2024-12-31T10:22:36.391306Z"
    }
   },
   "cell_type": "code",
   "source": "df_output_727",
   "outputs": [
    {
     "data": {
      "text/plain": [
       "        type  adv_pred        age  checking_status  credit_amount   duration  \\\n",
       "727     orig       NaN  25.000000         0.000000    1882.000000  18.000000   \n",
       "1    adv_lpf       1.0  26.225218         0.173080     655.261333  12.003761   \n",
       "1     adv_df       1.0  25.977536         0.286399     853.260747  12.442201   \n",
       "\n",
       "     employment  existing_credits  foreign_worker   id  \\\n",
       "727    2.000000          2.000000        0.000000  727   \n",
       "1      2.108032          1.808745        0.065637  727   \n",
       "1      2.085170          1.855178        0.047187  727   \n",
       "\n",
       "     installment_commitment  iters  num_dependents  orig_pred  own_telephone  \\\n",
       "727                4.000000    NaN             1.0        NaN       0.000000   \n",
       "1                  3.983764   15.0             1.0        0.0       0.061552   \n",
       "1                  3.981576  164.0             1.0        0.0       0.043153   \n",
       "\n",
       "     residence_since  savings_status  target  \n",
       "727              4.0             0.0     0.0  \n",
       "1                4.0             0.0     NaN  \n",
       "1                4.0             0.0     NaN  "
      ],
      "text/html": [
       "<div>\n",
       "<style scoped>\n",
       "    .dataframe tbody tr th:only-of-type {\n",
       "        vertical-align: middle;\n",
       "    }\n",
       "\n",
       "    .dataframe tbody tr th {\n",
       "        vertical-align: top;\n",
       "    }\n",
       "\n",
       "    .dataframe thead th {\n",
       "        text-align: right;\n",
       "    }\n",
       "</style>\n",
       "<table border=\"1\" class=\"dataframe\">\n",
       "  <thead>\n",
       "    <tr style=\"text-align: right;\">\n",
       "      <th></th>\n",
       "      <th>type</th>\n",
       "      <th>adv_pred</th>\n",
       "      <th>age</th>\n",
       "      <th>checking_status</th>\n",
       "      <th>credit_amount</th>\n",
       "      <th>duration</th>\n",
       "      <th>employment</th>\n",
       "      <th>existing_credits</th>\n",
       "      <th>foreign_worker</th>\n",
       "      <th>id</th>\n",
       "      <th>installment_commitment</th>\n",
       "      <th>iters</th>\n",
       "      <th>num_dependents</th>\n",
       "      <th>orig_pred</th>\n",
       "      <th>own_telephone</th>\n",
       "      <th>residence_since</th>\n",
       "      <th>savings_status</th>\n",
       "      <th>target</th>\n",
       "    </tr>\n",
       "  </thead>\n",
       "  <tbody>\n",
       "    <tr>\n",
       "      <th>727</th>\n",
       "      <td>orig</td>\n",
       "      <td>NaN</td>\n",
       "      <td>25.000000</td>\n",
       "      <td>0.000000</td>\n",
       "      <td>1882.000000</td>\n",
       "      <td>18.000000</td>\n",
       "      <td>2.000000</td>\n",
       "      <td>2.000000</td>\n",
       "      <td>0.000000</td>\n",
       "      <td>727</td>\n",
       "      <td>4.000000</td>\n",
       "      <td>NaN</td>\n",
       "      <td>1.0</td>\n",
       "      <td>NaN</td>\n",
       "      <td>0.000000</td>\n",
       "      <td>4.0</td>\n",
       "      <td>0.0</td>\n",
       "      <td>0.0</td>\n",
       "    </tr>\n",
       "    <tr>\n",
       "      <th>1</th>\n",
       "      <td>adv_lpf</td>\n",
       "      <td>1.0</td>\n",
       "      <td>26.225218</td>\n",
       "      <td>0.173080</td>\n",
       "      <td>655.261333</td>\n",
       "      <td>12.003761</td>\n",
       "      <td>2.108032</td>\n",
       "      <td>1.808745</td>\n",
       "      <td>0.065637</td>\n",
       "      <td>727</td>\n",
       "      <td>3.983764</td>\n",
       "      <td>15.0</td>\n",
       "      <td>1.0</td>\n",
       "      <td>0.0</td>\n",
       "      <td>0.061552</td>\n",
       "      <td>4.0</td>\n",
       "      <td>0.0</td>\n",
       "      <td>NaN</td>\n",
       "    </tr>\n",
       "    <tr>\n",
       "      <th>1</th>\n",
       "      <td>adv_df</td>\n",
       "      <td>1.0</td>\n",
       "      <td>25.977536</td>\n",
       "      <td>0.286399</td>\n",
       "      <td>853.260747</td>\n",
       "      <td>12.442201</td>\n",
       "      <td>2.085170</td>\n",
       "      <td>1.855178</td>\n",
       "      <td>0.047187</td>\n",
       "      <td>727</td>\n",
       "      <td>3.981576</td>\n",
       "      <td>164.0</td>\n",
       "      <td>1.0</td>\n",
       "      <td>0.0</td>\n",
       "      <td>0.043153</td>\n",
       "      <td>4.0</td>\n",
       "      <td>0.0</td>\n",
       "      <td>NaN</td>\n",
       "    </tr>\n",
       "  </tbody>\n",
       "</table>\n",
       "</div>"
      ]
     },
     "execution_count": 147,
     "metadata": {},
     "output_type": "execute_result"
    }
   ],
   "execution_count": 147
  },
  {
   "metadata": {
    "ExecuteTime": {
     "end_time": "2024-12-31T10:22:37.705143Z",
     "start_time": "2024-12-31T10:22:37.470012Z"
    }
   },
   "cell_type": "code",
   "source": "df_output_30",
   "outputs": [
    {
     "data": {
      "text/plain": [
       "       type  adv_pred        age  checking_status  credit_amount   duration  \\\n",
       "30     orig       NaN  36.000000         1.000000    1913.000000  18.000000   \n",
       "2   adv_lpf       0.0  36.411328         0.979135    2875.817523  19.704454   \n",
       "2    adv_df       0.0  36.320312         0.845203    3320.488479  21.771063   \n",
       "\n",
       "    employment  existing_credits  foreign_worker  id  installment_commitment  \\\n",
       "30    1.000000          1.000000             0.0  30                3.000000   \n",
       "2     0.862333          1.415493             0.0  30                2.967586   \n",
       "2     0.843581          1.273614             0.0  30                2.962933   \n",
       "\n",
       "    iters  num_dependents  orig_pred  own_telephone  residence_since  \\\n",
       "30    NaN             1.0        NaN            1.0         3.000000   \n",
       "2    52.0             1.0        1.0            1.0         2.736630   \n",
       "2   165.0             1.0        1.0            1.0         2.855428   \n",
       "\n",
       "    savings_status  target  \n",
       "30        3.000000     1.0  \n",
       "2         2.925984     NaN  \n",
       "2         2.923555     NaN  "
      ],
      "text/html": [
       "<div>\n",
       "<style scoped>\n",
       "    .dataframe tbody tr th:only-of-type {\n",
       "        vertical-align: middle;\n",
       "    }\n",
       "\n",
       "    .dataframe tbody tr th {\n",
       "        vertical-align: top;\n",
       "    }\n",
       "\n",
       "    .dataframe thead th {\n",
       "        text-align: right;\n",
       "    }\n",
       "</style>\n",
       "<table border=\"1\" class=\"dataframe\">\n",
       "  <thead>\n",
       "    <tr style=\"text-align: right;\">\n",
       "      <th></th>\n",
       "      <th>type</th>\n",
       "      <th>adv_pred</th>\n",
       "      <th>age</th>\n",
       "      <th>checking_status</th>\n",
       "      <th>credit_amount</th>\n",
       "      <th>duration</th>\n",
       "      <th>employment</th>\n",
       "      <th>existing_credits</th>\n",
       "      <th>foreign_worker</th>\n",
       "      <th>id</th>\n",
       "      <th>installment_commitment</th>\n",
       "      <th>iters</th>\n",
       "      <th>num_dependents</th>\n",
       "      <th>orig_pred</th>\n",
       "      <th>own_telephone</th>\n",
       "      <th>residence_since</th>\n",
       "      <th>savings_status</th>\n",
       "      <th>target</th>\n",
       "    </tr>\n",
       "  </thead>\n",
       "  <tbody>\n",
       "    <tr>\n",
       "      <th>30</th>\n",
       "      <td>orig</td>\n",
       "      <td>NaN</td>\n",
       "      <td>36.000000</td>\n",
       "      <td>1.000000</td>\n",
       "      <td>1913.000000</td>\n",
       "      <td>18.000000</td>\n",
       "      <td>1.000000</td>\n",
       "      <td>1.000000</td>\n",
       "      <td>0.0</td>\n",
       "      <td>30</td>\n",
       "      <td>3.000000</td>\n",
       "      <td>NaN</td>\n",
       "      <td>1.0</td>\n",
       "      <td>NaN</td>\n",
       "      <td>1.0</td>\n",
       "      <td>3.000000</td>\n",
       "      <td>3.000000</td>\n",
       "      <td>1.0</td>\n",
       "    </tr>\n",
       "    <tr>\n",
       "      <th>2</th>\n",
       "      <td>adv_lpf</td>\n",
       "      <td>0.0</td>\n",
       "      <td>36.411328</td>\n",
       "      <td>0.979135</td>\n",
       "      <td>2875.817523</td>\n",
       "      <td>19.704454</td>\n",
       "      <td>0.862333</td>\n",
       "      <td>1.415493</td>\n",
       "      <td>0.0</td>\n",
       "      <td>30</td>\n",
       "      <td>2.967586</td>\n",
       "      <td>52.0</td>\n",
       "      <td>1.0</td>\n",
       "      <td>1.0</td>\n",
       "      <td>1.0</td>\n",
       "      <td>2.736630</td>\n",
       "      <td>2.925984</td>\n",
       "      <td>NaN</td>\n",
       "    </tr>\n",
       "    <tr>\n",
       "      <th>2</th>\n",
       "      <td>adv_df</td>\n",
       "      <td>0.0</td>\n",
       "      <td>36.320312</td>\n",
       "      <td>0.845203</td>\n",
       "      <td>3320.488479</td>\n",
       "      <td>21.771063</td>\n",
       "      <td>0.843581</td>\n",
       "      <td>1.273614</td>\n",
       "      <td>0.0</td>\n",
       "      <td>30</td>\n",
       "      <td>2.962933</td>\n",
       "      <td>165.0</td>\n",
       "      <td>1.0</td>\n",
       "      <td>1.0</td>\n",
       "      <td>1.0</td>\n",
       "      <td>2.855428</td>\n",
       "      <td>2.923555</td>\n",
       "      <td>NaN</td>\n",
       "    </tr>\n",
       "  </tbody>\n",
       "</table>\n",
       "</div>"
      ]
     },
     "execution_count": 148,
     "metadata": {},
     "output_type": "execute_result"
    }
   ],
   "execution_count": 148
  },
  {
   "metadata": {},
   "cell_type": "markdown",
   "source": "### int型に変換"
  },
  {
   "metadata": {
    "ExecuteTime": {
     "end_time": "2024-12-31T10:22:40.160611Z",
     "start_time": "2024-12-31T10:22:38.619247Z"
    }
   },
   "cell_type": "code",
   "source": [
    "arrs = [685, 727, 30, 376, 66, 965, 963, 61, 282, 268]\n",
    "\n",
    "for i in arrs:\n",
    "    orig_row = df_orig[df_orig['Unnamed: 0'] == i].copy()\n",
    "    adv_lpf_row = df_adv_lpf[df_adv_lpf['Unnamed: 0'] == i].copy()\n",
    "    adv_df_row = df_adv_df[df_adv_df['Unnamed: 0'] == i].copy()\n",
    "    \n",
    "    # Rename columns to match the original format\n",
    "    orig_row.columns = [col if col != 'Unnamed: 0' else 'id' for col in orig_row.columns]\n",
    "    adv_lpf_row.columns = [col if col != 'Unnamed: 0' else 'id' for col in adv_lpf_row.columns]\n",
    "    adv_df_row.columns = [col if col != 'Unnamed: 0' else 'id' for col in adv_df_row.columns]\n",
    "    \n",
    "    # Combine rows into a single DataFrame\n",
    "    combined_df = pd.concat([orig_row, adv_lpf_row, adv_df_row], keys=['orig', 'adv_lpf', 'adv_df']).reset_index(level=0).rename(columns={'level_0': 'type'})\n",
    "    \n",
    "    # Round and convert to int\n",
    "    combined_df.loc[:, combined_df.columns != 'type'] = combined_df.loc[:, combined_df.columns != 'type'].fillna(0).round().astype(int)\n",
    "    \n",
    "    # Save the DataFrame as df_output_{id}\n",
    "    globals()[f'df_output_i_{i}'] = combined_df"
   ],
   "outputs": [
    {
     "name": "stderr",
     "output_type": "stream",
     "text": [
      "/root/.pyenv/versions/3.7.4/lib/python3.7/site-packages/ipykernel_launcher.py:14: FutureWarning: Sorting because non-concatenation axis is not aligned. A future version\n",
      "of pandas will change to not sort by default.\n",
      "\n",
      "To accept the future behavior, pass 'sort=False'.\n",
      "\n",
      "To retain the current behavior and silence the warning, pass 'sort=True'.\n",
      "\n",
      "  \n"
     ]
    }
   ],
   "execution_count": 149
  },
  {
   "metadata": {
    "ExecuteTime": {
     "end_time": "2024-12-31T10:22:40.786153Z",
     "start_time": "2024-12-31T10:22:40.536288Z"
    }
   },
   "cell_type": "code",
   "source": "df_output_i_685",
   "outputs": [
    {
     "data": {
      "text/plain": [
       "        type  adv_pred  age  checking_status  credit_amount  duration  \\\n",
       "685     orig         0   34                3           6527        60   \n",
       "0    adv_lpf         0   35                3           5799        60   \n",
       "0     adv_df         0   36                3           5397        60   \n",
       "\n",
       "     employment  existing_credits  foreign_worker   id  \\\n",
       "685           2                 1               0  685   \n",
       "0             2                 1               0  685   \n",
       "0             2                 1               0  685   \n",
       "\n",
       "     installment_commitment  iters  num_dependents  orig_pred  own_telephone  \\\n",
       "685                       4      0               2          0              1   \n",
       "0                         4     50               2          1              1   \n",
       "0                         4    214               2          1              1   \n",
       "\n",
       "     residence_since  savings_status  target  \n",
       "685                4               4       1  \n",
       "0                  4               4       0  \n",
       "0                  4               4       0  "
      ],
      "text/html": [
       "<div>\n",
       "<style scoped>\n",
       "    .dataframe tbody tr th:only-of-type {\n",
       "        vertical-align: middle;\n",
       "    }\n",
       "\n",
       "    .dataframe tbody tr th {\n",
       "        vertical-align: top;\n",
       "    }\n",
       "\n",
       "    .dataframe thead th {\n",
       "        text-align: right;\n",
       "    }\n",
       "</style>\n",
       "<table border=\"1\" class=\"dataframe\">\n",
       "  <thead>\n",
       "    <tr style=\"text-align: right;\">\n",
       "      <th></th>\n",
       "      <th>type</th>\n",
       "      <th>adv_pred</th>\n",
       "      <th>age</th>\n",
       "      <th>checking_status</th>\n",
       "      <th>credit_amount</th>\n",
       "      <th>duration</th>\n",
       "      <th>employment</th>\n",
       "      <th>existing_credits</th>\n",
       "      <th>foreign_worker</th>\n",
       "      <th>id</th>\n",
       "      <th>installment_commitment</th>\n",
       "      <th>iters</th>\n",
       "      <th>num_dependents</th>\n",
       "      <th>orig_pred</th>\n",
       "      <th>own_telephone</th>\n",
       "      <th>residence_since</th>\n",
       "      <th>savings_status</th>\n",
       "      <th>target</th>\n",
       "    </tr>\n",
       "  </thead>\n",
       "  <tbody>\n",
       "    <tr>\n",
       "      <th>685</th>\n",
       "      <td>orig</td>\n",
       "      <td>0</td>\n",
       "      <td>34</td>\n",
       "      <td>3</td>\n",
       "      <td>6527</td>\n",
       "      <td>60</td>\n",
       "      <td>2</td>\n",
       "      <td>1</td>\n",
       "      <td>0</td>\n",
       "      <td>685</td>\n",
       "      <td>4</td>\n",
       "      <td>0</td>\n",
       "      <td>2</td>\n",
       "      <td>0</td>\n",
       "      <td>1</td>\n",
       "      <td>4</td>\n",
       "      <td>4</td>\n",
       "      <td>1</td>\n",
       "    </tr>\n",
       "    <tr>\n",
       "      <th>0</th>\n",
       "      <td>adv_lpf</td>\n",
       "      <td>0</td>\n",
       "      <td>35</td>\n",
       "      <td>3</td>\n",
       "      <td>5799</td>\n",
       "      <td>60</td>\n",
       "      <td>2</td>\n",
       "      <td>1</td>\n",
       "      <td>0</td>\n",
       "      <td>685</td>\n",
       "      <td>4</td>\n",
       "      <td>50</td>\n",
       "      <td>2</td>\n",
       "      <td>1</td>\n",
       "      <td>1</td>\n",
       "      <td>4</td>\n",
       "      <td>4</td>\n",
       "      <td>0</td>\n",
       "    </tr>\n",
       "    <tr>\n",
       "      <th>0</th>\n",
       "      <td>adv_df</td>\n",
       "      <td>0</td>\n",
       "      <td>36</td>\n",
       "      <td>3</td>\n",
       "      <td>5397</td>\n",
       "      <td>60</td>\n",
       "      <td>2</td>\n",
       "      <td>1</td>\n",
       "      <td>0</td>\n",
       "      <td>685</td>\n",
       "      <td>4</td>\n",
       "      <td>214</td>\n",
       "      <td>2</td>\n",
       "      <td>1</td>\n",
       "      <td>1</td>\n",
       "      <td>4</td>\n",
       "      <td>4</td>\n",
       "      <td>0</td>\n",
       "    </tr>\n",
       "  </tbody>\n",
       "</table>\n",
       "</div>"
      ]
     },
     "execution_count": 150,
     "metadata": {},
     "output_type": "execute_result"
    }
   ],
   "execution_count": 150
  },
  {
   "metadata": {
    "ExecuteTime": {
     "end_time": "2024-12-31T10:22:41.352005Z",
     "start_time": "2024-12-31T10:22:41.136069Z"
    }
   },
   "cell_type": "code",
   "source": "df_output_i_727",
   "outputs": [
    {
     "data": {
      "text/plain": [
       "        type  adv_pred  age  checking_status  credit_amount  duration  \\\n",
       "727     orig         0   25                0           1882        18   \n",
       "1    adv_lpf         1   26                0            655        12   \n",
       "1     adv_df         1   26                0            853        12   \n",
       "\n",
       "     employment  existing_credits  foreign_worker   id  \\\n",
       "727           2                 2               0  727   \n",
       "1             2                 2               0  727   \n",
       "1             2                 2               0  727   \n",
       "\n",
       "     installment_commitment  iters  num_dependents  orig_pred  own_telephone  \\\n",
       "727                       4      0               1          0              0   \n",
       "1                         4     15               1          0              0   \n",
       "1                         4    164               1          0              0   \n",
       "\n",
       "     residence_since  savings_status  target  \n",
       "727                4               0       0  \n",
       "1                  4               0       0  \n",
       "1                  4               0       0  "
      ],
      "text/html": [
       "<div>\n",
       "<style scoped>\n",
       "    .dataframe tbody tr th:only-of-type {\n",
       "        vertical-align: middle;\n",
       "    }\n",
       "\n",
       "    .dataframe tbody tr th {\n",
       "        vertical-align: top;\n",
       "    }\n",
       "\n",
       "    .dataframe thead th {\n",
       "        text-align: right;\n",
       "    }\n",
       "</style>\n",
       "<table border=\"1\" class=\"dataframe\">\n",
       "  <thead>\n",
       "    <tr style=\"text-align: right;\">\n",
       "      <th></th>\n",
       "      <th>type</th>\n",
       "      <th>adv_pred</th>\n",
       "      <th>age</th>\n",
       "      <th>checking_status</th>\n",
       "      <th>credit_amount</th>\n",
       "      <th>duration</th>\n",
       "      <th>employment</th>\n",
       "      <th>existing_credits</th>\n",
       "      <th>foreign_worker</th>\n",
       "      <th>id</th>\n",
       "      <th>installment_commitment</th>\n",
       "      <th>iters</th>\n",
       "      <th>num_dependents</th>\n",
       "      <th>orig_pred</th>\n",
       "      <th>own_telephone</th>\n",
       "      <th>residence_since</th>\n",
       "      <th>savings_status</th>\n",
       "      <th>target</th>\n",
       "    </tr>\n",
       "  </thead>\n",
       "  <tbody>\n",
       "    <tr>\n",
       "      <th>727</th>\n",
       "      <td>orig</td>\n",
       "      <td>0</td>\n",
       "      <td>25</td>\n",
       "      <td>0</td>\n",
       "      <td>1882</td>\n",
       "      <td>18</td>\n",
       "      <td>2</td>\n",
       "      <td>2</td>\n",
       "      <td>0</td>\n",
       "      <td>727</td>\n",
       "      <td>4</td>\n",
       "      <td>0</td>\n",
       "      <td>1</td>\n",
       "      <td>0</td>\n",
       "      <td>0</td>\n",
       "      <td>4</td>\n",
       "      <td>0</td>\n",
       "      <td>0</td>\n",
       "    </tr>\n",
       "    <tr>\n",
       "      <th>1</th>\n",
       "      <td>adv_lpf</td>\n",
       "      <td>1</td>\n",
       "      <td>26</td>\n",
       "      <td>0</td>\n",
       "      <td>655</td>\n",
       "      <td>12</td>\n",
       "      <td>2</td>\n",
       "      <td>2</td>\n",
       "      <td>0</td>\n",
       "      <td>727</td>\n",
       "      <td>4</td>\n",
       "      <td>15</td>\n",
       "      <td>1</td>\n",
       "      <td>0</td>\n",
       "      <td>0</td>\n",
       "      <td>4</td>\n",
       "      <td>0</td>\n",
       "      <td>0</td>\n",
       "    </tr>\n",
       "    <tr>\n",
       "      <th>1</th>\n",
       "      <td>adv_df</td>\n",
       "      <td>1</td>\n",
       "      <td>26</td>\n",
       "      <td>0</td>\n",
       "      <td>853</td>\n",
       "      <td>12</td>\n",
       "      <td>2</td>\n",
       "      <td>2</td>\n",
       "      <td>0</td>\n",
       "      <td>727</td>\n",
       "      <td>4</td>\n",
       "      <td>164</td>\n",
       "      <td>1</td>\n",
       "      <td>0</td>\n",
       "      <td>0</td>\n",
       "      <td>4</td>\n",
       "      <td>0</td>\n",
       "      <td>0</td>\n",
       "    </tr>\n",
       "  </tbody>\n",
       "</table>\n",
       "</div>"
      ]
     },
     "execution_count": 151,
     "metadata": {},
     "output_type": "execute_result"
    }
   ],
   "execution_count": 151
  },
  {
   "metadata": {
    "ExecuteTime": {
     "end_time": "2024-12-31T10:22:42.476235Z",
     "start_time": "2024-12-31T10:22:42.235623Z"
    }
   },
   "cell_type": "code",
   "source": "df_output_i_30",
   "outputs": [
    {
     "data": {
      "text/plain": [
       "       type  adv_pred  age  checking_status  credit_amount  duration  \\\n",
       "30     orig         0   36                1           1913        18   \n",
       "2   adv_lpf         0   36                1           2876        20   \n",
       "2    adv_df         0   36                1           3320        22   \n",
       "\n",
       "    employment  existing_credits  foreign_worker  id  installment_commitment  \\\n",
       "30           1                 1               0  30                       3   \n",
       "2            1                 1               0  30                       3   \n",
       "2            1                 1               0  30                       3   \n",
       "\n",
       "    iters  num_dependents  orig_pred  own_telephone  residence_since  \\\n",
       "30      0               1          0              1                3   \n",
       "2      52               1          1              1                3   \n",
       "2     165               1          1              1                3   \n",
       "\n",
       "    savings_status  target  \n",
       "30               3       1  \n",
       "2                3       0  \n",
       "2                3       0  "
      ],
      "text/html": [
       "<div>\n",
       "<style scoped>\n",
       "    .dataframe tbody tr th:only-of-type {\n",
       "        vertical-align: middle;\n",
       "    }\n",
       "\n",
       "    .dataframe tbody tr th {\n",
       "        vertical-align: top;\n",
       "    }\n",
       "\n",
       "    .dataframe thead th {\n",
       "        text-align: right;\n",
       "    }\n",
       "</style>\n",
       "<table border=\"1\" class=\"dataframe\">\n",
       "  <thead>\n",
       "    <tr style=\"text-align: right;\">\n",
       "      <th></th>\n",
       "      <th>type</th>\n",
       "      <th>adv_pred</th>\n",
       "      <th>age</th>\n",
       "      <th>checking_status</th>\n",
       "      <th>credit_amount</th>\n",
       "      <th>duration</th>\n",
       "      <th>employment</th>\n",
       "      <th>existing_credits</th>\n",
       "      <th>foreign_worker</th>\n",
       "      <th>id</th>\n",
       "      <th>installment_commitment</th>\n",
       "      <th>iters</th>\n",
       "      <th>num_dependents</th>\n",
       "      <th>orig_pred</th>\n",
       "      <th>own_telephone</th>\n",
       "      <th>residence_since</th>\n",
       "      <th>savings_status</th>\n",
       "      <th>target</th>\n",
       "    </tr>\n",
       "  </thead>\n",
       "  <tbody>\n",
       "    <tr>\n",
       "      <th>30</th>\n",
       "      <td>orig</td>\n",
       "      <td>0</td>\n",
       "      <td>36</td>\n",
       "      <td>1</td>\n",
       "      <td>1913</td>\n",
       "      <td>18</td>\n",
       "      <td>1</td>\n",
       "      <td>1</td>\n",
       "      <td>0</td>\n",
       "      <td>30</td>\n",
       "      <td>3</td>\n",
       "      <td>0</td>\n",
       "      <td>1</td>\n",
       "      <td>0</td>\n",
       "      <td>1</td>\n",
       "      <td>3</td>\n",
       "      <td>3</td>\n",
       "      <td>1</td>\n",
       "    </tr>\n",
       "    <tr>\n",
       "      <th>2</th>\n",
       "      <td>adv_lpf</td>\n",
       "      <td>0</td>\n",
       "      <td>36</td>\n",
       "      <td>1</td>\n",
       "      <td>2876</td>\n",
       "      <td>20</td>\n",
       "      <td>1</td>\n",
       "      <td>1</td>\n",
       "      <td>0</td>\n",
       "      <td>30</td>\n",
       "      <td>3</td>\n",
       "      <td>52</td>\n",
       "      <td>1</td>\n",
       "      <td>1</td>\n",
       "      <td>1</td>\n",
       "      <td>3</td>\n",
       "      <td>3</td>\n",
       "      <td>0</td>\n",
       "    </tr>\n",
       "    <tr>\n",
       "      <th>2</th>\n",
       "      <td>adv_df</td>\n",
       "      <td>0</td>\n",
       "      <td>36</td>\n",
       "      <td>1</td>\n",
       "      <td>3320</td>\n",
       "      <td>22</td>\n",
       "      <td>1</td>\n",
       "      <td>1</td>\n",
       "      <td>0</td>\n",
       "      <td>30</td>\n",
       "      <td>3</td>\n",
       "      <td>165</td>\n",
       "      <td>1</td>\n",
       "      <td>1</td>\n",
       "      <td>1</td>\n",
       "      <td>3</td>\n",
       "      <td>3</td>\n",
       "      <td>0</td>\n",
       "    </tr>\n",
       "  </tbody>\n",
       "</table>\n",
       "</div>"
      ]
     },
     "execution_count": 152,
     "metadata": {},
     "output_type": "execute_result"
    }
   ],
   "execution_count": 152
  },
  {
   "metadata": {
    "ExecuteTime": {
     "end_time": "2024-12-31T11:45:09.918455Z",
     "start_time": "2024-12-31T11:45:08.813365Z"
    }
   },
   "cell_type": "code",
   "source": "none, target, feature_names = get_df(DATASET)",
   "outputs": [
    {
     "name": "stderr",
     "output_type": "stream",
     "text": [
      "/root/.pyenv/versions/3.7.4/lib/python3.7/site-packages/sklearn/datasets/openml.py:305: UserWarning: Multiple active versions of the dataset matching the name credit-g exist. Versions may be fundamentally different, returning version 1.\n",
      "  \" {version}.\".format(name=name, version=res[0]['version']))\n"
     ]
    }
   ],
   "execution_count": 180
  },
  {
   "metadata": {},
   "cell_type": "markdown",
   "source": "### 確率の出力"
  },
  {
   "metadata": {
    "ExecuteTime": {
     "end_time": "2024-12-31T11:45:12.655677Z",
     "start_time": "2024-12-31T11:45:11.399196Z"
    }
   },
   "cell_type": "code",
   "source": [
    "df_orig_int = df_orig.copy()\n",
    "scaler, df_orig_int, bounds = normalize(df_orig_int, target, feature_names, bounds)\n",
    "df_orig_int_test = torch.FloatTensor(df_orig_int[feature_names].values)\n",
    "y_pred_orig = model(df_orig_int_test)\n",
    "print(y_pred_orig)"
   ],
   "outputs": [
    {
     "name": "stdout",
     "output_type": "stream",
     "text": [
      "tensor([[0.1833, 0.8167],\n",
      "        [0.9819, 0.0181],\n",
      "        [0.7973, 0.2027],\n",
      "        ...,\n",
      "        [0.0038, 0.9962],\n",
      "        [0.9279, 0.0721],\n",
      "        [0.9678, 0.0322]], grad_fn=<SoftmaxBackward>)\n"
     ]
    }
   ],
   "execution_count": 181
  },
  {
   "metadata": {
    "ExecuteTime": {
     "end_time": "2024-12-31T11:45:13.701705Z",
     "start_time": "2024-12-31T11:45:13.318116Z"
    }
   },
   "cell_type": "code",
   "source": [
    "df_orig_filltered = df_orig[df_orig['Unnamed: 0'].isin(arrs)].copy()\n",
    "scaler, df_orig_filltered, bounds = normalize(df_orig_filltered, target, feature_names, bounds)\n",
    "df_orig_test_filltered = torch.FloatTensor(df_orig_filltered[feature_names].values)\n",
    "y_pred_orig_filltered = model(df_orig_test_filltered)\n",
    "print(y_pred_orig_filltered)"
   ],
   "outputs": [
    {
     "name": "stdout",
     "output_type": "stream",
     "text": [
      "tensor([[1.6658e-01, 8.3342e-01],\n",
      "        [2.6305e-03, 9.9737e-01],\n",
      "        [3.2000e-01, 6.8000e-01],\n",
      "        [9.9993e-01, 6.5231e-05],\n",
      "        [2.0047e-01, 7.9953e-01],\n",
      "        [8.1273e-01, 1.8727e-01],\n",
      "        [4.0366e-01, 5.9634e-01],\n",
      "        [9.9042e-01, 9.5774e-03],\n",
      "        [2.4047e-02, 9.7595e-01],\n",
      "        [5.9564e-01, 4.0436e-01]], grad_fn=<SoftmaxBackward>)\n"
     ]
    }
   ],
   "execution_count": 182
  },
  {
   "metadata": {
    "ExecuteTime": {
     "end_time": "2024-12-31T11:45:14.723282Z",
     "start_time": "2024-12-31T11:45:14.372328Z"
    }
   },
   "cell_type": "code",
   "source": [
    "df_adv_lpf = df_adv_lpf.copy()\n",
    "scaler, df_adv_lpf, bounds = normalize(df_adv_lpf, 'orig_pred', feature_names, bounds)\n",
    "df_adv_lpf_test = torch.FloatTensor(df_adv_lpf[feature_names].values)\n",
    "y_pred_lpf = model(df_adv_lpf_test)\n",
    "print(y_pred_lpf)"
   ],
   "outputs": [
    {
     "name": "stdout",
     "output_type": "stream",
     "text": [
      "tensor([[0.5286, 0.4714],\n",
      "        [0.5185, 0.4815],\n",
      "        [0.7200, 0.2800],\n",
      "        [0.6466, 0.3534],\n",
      "        [0.5654, 0.4346],\n",
      "        [0.5614, 0.4386],\n",
      "        [0.9779, 0.0221],\n",
      "        [0.8676, 0.1324],\n",
      "        [0.9850, 0.0150],\n",
      "        [0.6938, 0.3062]], grad_fn=<SoftmaxBackward>)\n"
     ]
    }
   ],
   "execution_count": 183
  },
  {
   "metadata": {
    "ExecuteTime": {
     "end_time": "2024-12-31T11:45:15.575266Z",
     "start_time": "2024-12-31T11:45:15.214036Z"
    }
   },
   "cell_type": "code",
   "source": [
    "df_adv_df = df_adv_df.copy()\n",
    "scaler, df_adv_df, bounds = normalize(df_adv_df, 'orig_pred', feature_names, bounds)\n",
    "df_adv_df_test = torch.FloatTensor(df_adv_df[feature_names].values)\n",
    "y_pred_df = model(df_adv_df_test)\n",
    "print(y_pred_df)"
   ],
   "outputs": [
    {
     "name": "stdout",
     "output_type": "stream",
     "text": [
      "tensor([[0.5533, 0.4467],\n",
      "        [0.9153, 0.0847],\n",
      "        [0.8981, 0.1019],\n",
      "        [0.8789, 0.1211],\n",
      "        [0.7544, 0.2456],\n",
      "        [0.7101, 0.2899],\n",
      "        [0.9987, 0.0013],\n",
      "        [0.9718, 0.0282],\n",
      "        [0.8590, 0.1410],\n",
      "        [0.9989, 0.0011]], grad_fn=<SoftmaxBackward>)\n"
     ]
    }
   ],
   "execution_count": 184
  },
  {
   "metadata": {
    "ExecuteTime": {
     "end_time": "2024-12-31T11:49:28.510981Z",
     "start_time": "2024-12-31T11:49:27.830837Z"
    }
   },
   "cell_type": "code",
   "source": [
    "# Filter the DataFrame\n",
    "df_orig_filltered = df_orig[df_orig['Unnamed: 0'].isin(arrs)].copy()\n",
    "\n",
    "# Round and convert to int\n",
    "df_orig_filltered_int = df_orig_filltered.round().astype(int)\n",
    "\n",
    "# Normalize the data\n",
    "scaler, df_orig_int_filltered, bounds = normalize(df_orig_filltered_int, target, feature_names, bounds)\n",
    "df_orig_int_test_filltered = torch.FloatTensor(df_orig_int_filltered[feature_names].values)\n",
    "y_pred_orig_filltered = model(df_orig_int_test_filltered)\n",
    "print(y_pred_orig_filltered)"
   ],
   "outputs": [
    {
     "name": "stdout",
     "output_type": "stream",
     "text": [
      "tensor([[1.6658e-01, 8.3342e-01],\n",
      "        [2.6305e-03, 9.9737e-01],\n",
      "        [3.2000e-01, 6.8000e-01],\n",
      "        [9.9993e-01, 6.5231e-05],\n",
      "        [2.0047e-01, 7.9953e-01],\n",
      "        [8.1273e-01, 1.8727e-01],\n",
      "        [4.0366e-01, 5.9634e-01],\n",
      "        [9.9042e-01, 9.5774e-03],\n",
      "        [2.4047e-02, 9.7595e-01],\n",
      "        [5.9564e-01, 4.0436e-01]], grad_fn=<SoftmaxBackward>)\n"
     ]
    }
   ],
   "execution_count": 189
  },
  {
   "metadata": {
    "ExecuteTime": {
     "end_time": "2024-12-31T11:53:02.771192Z",
     "start_time": "2024-12-31T11:53:02.141185Z"
    }
   },
   "cell_type": "code",
   "source": [
    "df_adv_lpf = df_adv_lpf[df_adv_lpf['Unnamed: 0'].isin(arrs)].copy()\n",
    "\n",
    "# Round and convert to int\n",
    "df_adv_lpf_int = df_adv_lpf.round().astype(int)\n",
    "\n",
    "scaler, df_adv_lpf_int, bounds = normalize(df_adv_lpf_int, 'orig_pred', feature_names, bounds)\n",
    "\n",
    "\n",
    "df_adv_lpf_int_test = torch.FloatTensor(df_adv_lpf_int[feature_names].values)\n",
    "y_pred_lpf = model(df_adv_lpf_int_test)\n",
    "print(y_pred_lpf)"
   ],
   "outputs": [
    {
     "name": "stdout",
     "output_type": "stream",
     "text": [
      "tensor([[0.9590, 0.0410],\n",
      "        [0.4803, 0.5197],\n",
      "        [0.2797, 0.7203],\n",
      "        [0.6901, 0.3099],\n",
      "        [0.1875, 0.8125],\n",
      "        [0.9917, 0.0083],\n",
      "        [0.9929, 0.0071],\n",
      "        [0.9376, 0.0624],\n",
      "        [0.9527, 0.0473],\n",
      "        [0.9734, 0.0266]], grad_fn=<SoftmaxBackward>)\n"
     ]
    }
   ],
   "execution_count": 194
  },
  {
   "metadata": {
    "ExecuteTime": {
     "end_time": "2024-12-31T11:54:35.711062Z",
     "start_time": "2024-12-31T11:54:35.242053Z"
    }
   },
   "cell_type": "code",
   "source": [
    "df_adv_df = df_adv_df[df_adv_df['Unnamed: 0'].isin(arrs)].copy()\n",
    "\n",
    "# Round and convert to int\n",
    "df_adv_df_int = df_adv_df.round().astype(int)\n",
    "\n",
    "scaler, df_adv_df_int, bounds = normalize(df_adv_df_int, 'orig_pred', feature_names, bounds)\n",
    "\n",
    "df_adv_df_test = torch.FloatTensor(df_adv_df_int[feature_names].values)\n",
    "y_pred_df = model(df_adv_df_test)\n",
    "print(y_pred_df)"
   ],
   "outputs": [
    {
     "name": "stdout",
     "output_type": "stream",
     "text": [
      "tensor([[9.5898e-01, 4.1023e-02],\n",
      "        [4.8032e-01, 5.1968e-01],\n",
      "        [9.5730e-01, 4.2699e-02],\n",
      "        [6.9012e-01, 3.0988e-01],\n",
      "        [1.8748e-01, 8.1252e-01],\n",
      "        [5.4182e-01, 4.5818e-01],\n",
      "        [9.9288e-01, 7.1198e-03],\n",
      "        [7.8716e-01, 2.1284e-01],\n",
      "        [9.8816e-01, 1.1835e-02],\n",
      "        [9.9982e-01, 1.8491e-04]], grad_fn=<SoftmaxBackward>)\n"
     ]
    }
   ],
   "execution_count": 195
  },
  {
   "metadata": {},
   "cell_type": "code",
   "outputs": [],
   "execution_count": null,
   "source": ""
  }
 ],
 "metadata": {
  "kernelspec": {
   "display_name": "Python 3",
   "language": "python",
   "name": "python3"
  },
  "language_info": {
   "codemirror_mode": {
    "name": "ipython",
    "version": 3
   },
   "file_extension": ".py",
   "mimetype": "text/x-python",
   "name": "python",
   "nbconvert_exporter": "python",
   "pygments_lexer": "ipython3",
   "version": "3.7.4"
  }
 },
 "nbformat": 4,
 "nbformat_minor": 2
}
